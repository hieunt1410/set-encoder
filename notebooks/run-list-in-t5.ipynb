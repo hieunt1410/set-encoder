{
 "cells": [
  {
   "cell_type": "code",
   "execution_count": 1,
   "metadata": {},
   "outputs": [],
   "source": [
    "import pandas as pd\n",
    "import os\n",
    "import gzip\n",
    "import json\n",
    "from tqdm import tqdm\n",
    "\n",
    "batch_size = os.environ.get('LIT5_BATCH_SIZE', 18)\n",
    "total_n_rerank_passages = os.environ.get('LIT5_RERANK_PASSAGES', 100)\n",
    "windowsize = os.environ.get('LIT5_WINDOW_SIZE', 20)\n",
    "stride = os.environ.get('LIT5_STRIDE', 10)\n",
    "model_path = os.environ.get('LIT5_MODEL_PATH', 'castorini/LiT5-Distill-base')\n",
    "text_maxlength = os.environ.get('LIT5_TEXT_MAX_LENGTH', 150)\n"
   ]
  },
  {
   "cell_type": "code",
   "execution_count": 2,
   "metadata": {},
   "outputs": [],
   "source": [
    "input_dataset = \"/tmp/rerank.jsonl.gz\"\n",
    "output_file = \"/tmp/run.txt\"\n",
    "\n",
    "if os.environ.get('TIRA_INPUT_DATASET', None):\n",
    "    # We are inside the TIRA sandbox, we process the injected dataset\n",
    "    input_dataset = os.environ.get('TIRA_INPUT_DATASET') + '/rerank.jsonl.gz'\n",
    "    output_file = os.environ.get('TIRA_OUTPUT_DIR') + '/run.txt'\n",
    "else:\n",
    "    # We are outside the TIRA sandbox, we process a small cunstructed hello world example\n",
    "    scored_docs = pd.DataFrame([\n",
    "        {\"qid\": \"1\", \"query\": \"hubble telescope achievements\", \"docno\": \"doc-3\", \"text\": \"The Hubble telescope discovered two moons of Pluto, Nix and Hydra.\", \"rank\": 1, \"score\": 10},\n",
    "        {\"qid\": \"1\", \"query\": \"hubble telescope achievements\", \"docno\": \"doc-4\", \"text\": \"Edwin Hubble, an astronomer with great achievement, completely reimagined our place in the universe (the telescope is named by him).\", \"rank\": 2, \"score\": 9},\n",
    "        {\"qid\": \"2\", \"query\": \"how to exit vim?\", \"docno\": \"doc-1\", \"text\": \"Press ESC key, then the : (colon), and type the wq command after the colon and hit the Enter key to save and leave Vim.\", \"rank\": 1, \"score\": 10},\n",
    "        {\"qid\": \"2\", \"query\": \"how to exit vim?\", \"docno\": \"doc-2\", \"text\": \"In Vim, you can always press the ESC key on your keyboard to enter the normal mode in the Vim editor.\", \"rank\": 2, \"score\": 9},\n",
    "        {\"qid\": \"3\", \"query\": \"signs heart attack\", \"docno\": \"doc-5\", \"text\": \"Common heart attack symptoms include: (1) Chest pain, (2) Pain or discomfort that spreads to the shoulder, arm, back, neck, jaw, teeth or sometimes the upper belly, etc.\", \"rank\": 1, \"score\": 10},\n",
    "        {\"qid\": \"3\", \"query\": \"signs heart attack\", \"docno\": \"doc-6\", \"text\": \"A heart attack happens when the flow of blood that brings oxygen to your heart muscle suddenly becomes blocked. \", \"rank\": 2, \"score\": 9},\n",
    "    ])\n",
    "    scored_docs.to_json(input_dataset, lines=True, orient='records')"
   ]
  },
  {
   "cell_type": "code",
   "execution_count": 3,
   "metadata": {},
   "outputs": [
    {
     "name": "stderr",
     "output_type": "stream",
     "text": [
      "Reformat input dataset.: 6it [00:00, 6466.04it/s]\n"
     ]
    }
   ],
   "source": [
    "def transform_to_lit5_dataset(input_dataset, output_file, max_document_length=3500):\n",
    "    qid_to_lit5_format = {}\n",
    "\n",
    "    with gzip.open(input_dataset, 'rt') as input:\n",
    "        for l in tqdm(input, 'Reformat input dataset.'):\n",
    "            l = json.loads(l)\n",
    "            if l['qid'] not in qid_to_lit5_format:\n",
    "                qid_to_lit5_format[l['qid']] = {\"question\": l['query'], \"id\": l['qid'], \"ctxs\": []}\n",
    "            qid_to_lit5_format[l['qid']][\"ctxs\"] += [{\"docid\": l['docno'], \"text\": l['text'][:max_document_length]}]\n",
    "\n",
    "    pd.DataFrame(qid_to_lit5_format.values()).to_json(output_file, lines=True, orient='records')\n",
    "\n",
    "\n",
    "transform_to_lit5_dataset(input_dataset, '/tmp/rerank-lit5.jsonl')\n",
    "input_dataset = '/tmp/rerank-lit5.jsonl'"
   ]
  },
  {
   "cell_type": "code",
   "execution_count": 5,
   "metadata": {},
   "outputs": [
    {
     "name": "stdout",
     "output_type": "stream",
     "text": [
      "Start re-ranking with:\n",
      "\tbatch_size: 18\n",
      "\ttotal_n_rerank_passages: 100\n",
      "\twindowsize: 20\n",
      "\tstride: 10\n",
      "\tmodel_path: castorini/LiT5-Distill-base\n",
      "\ttext_maxlength: 150\n"
     ]
    }
   ],
   "source": [
    "print('Start re-ranking with:')\n",
    "print('\\tbatch_size:', batch_size)\n",
    "print('\\ttotal_n_rerank_passages:', total_n_rerank_passages)\n",
    "print('\\twindowsize:', windowsize)\n",
    "print('\\tstride:', stride)\n",
    "print('\\tmodel_path:', model_path)\n",
    "print('\\ttext_maxlength:', text_maxlength)"
   ]
  },
  {
   "cell_type": "code",
   "execution_count": 6,
   "metadata": {},
   "outputs": [
    {
     "name": "stdout",
     "output_type": "stream",
     "text": [
      "Special tokens have been added in the vocabulary, make sure the associated word embeddings are fine-tuned or trained.\n",
      "Start Inference\n",
      "Reranking passages: 80 to 100\n",
      "/opt/conda/lib/python3.10/site-packages/transformers/modeling_utils.py:942: FutureWarning: The `device` argument is deprecated and will be removed in v5 of Transformers.\n",
      "  warnings.warn(\n",
      "/opt/conda/lib/python3.10/site-packages/transformers/modeling_utils.py:896: FutureWarning: The `device` argument is deprecated and will be removed in v5 of Transformers.\n",
      "  warnings.warn(\n",
      "Reranking passages: 70 to 90\n",
      "Reranking passages: 60 to 80\n",
      "Reranking passages: 50 to 70\n",
      "Reranking passages: 40 to 60\n",
      "Reranking passages: 30 to 50\n",
      "Reranking passages: 20 to 40\n",
      "Reranking passages: 10 to 30\n",
      "Reranking passages: 0 to 20\n"
     ]
    }
   ],
   "source": [
    "!python3 ../castorini-list-in-t5/FiD/LiT5-Distill.py \\\n",
    "    --model_path {model_path} \\\n",
    "    --batch_size {batch_size} \\\n",
    "    --eval_data {input_dataset} \\\n",
    "    --n_passages {windowsize} \\\n",
    "    --runfile_path {output_file} \\\n",
    "    --text_maxlength {text_maxlength} \\\n",
    "    --answer_maxlength 100 \\\n",
    "    --stride {stride} \\\n",
    "    --n_rerank_passages {total_n_rerank_passages} \\\n",
    "    --bfloat16"
   ]
  },
  {
   "cell_type": "code",
   "execution_count": 10,
   "metadata": {},
   "outputs": [
    {
     "name": "stdout",
     "output_type": "stream",
     "text": [
      "Re-ranking is done. First 4 entries of the run file:\n",
      "1 Q0 doc-4 1 1.0 RankFiD\n",
      "1 Q0 doc-3 2 0.5 RankFiD\n",
      "2 Q0 doc-1 1 1.0 RankFiD\n",
      "2 Q0 doc-2 2 0.5 RankFiD\n"
     ]
    }
   ],
   "source": [
    "print('Re-ranking is done. First 4 entries of the run file:')\n",
    "!head -4 {output_file}"
   ]
  }
 ],
 "metadata": {
  "kernelspec": {
   "display_name": "Python 3 (ipykernel)",
   "language": "python",
   "name": "python3"
  },
  "language_info": {
   "codemirror_mode": {
    "name": "ipython",
    "version": 3
   },
   "file_extension": ".py",
   "mimetype": "text/x-python",
   "name": "python",
   "nbconvert_exporter": "python",
   "pygments_lexer": "ipython3",
   "version": "3.10.13"
  }
 },
 "nbformat": 4,
 "nbformat_minor": 4
}
